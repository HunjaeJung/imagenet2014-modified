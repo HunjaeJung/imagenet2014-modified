{
 "cells": [
  {
   "cell_type": "code",
   "execution_count": 2,
   "metadata": {
    "collapsed": false
   },
   "outputs": [],
   "source": [
    "%matplotlib inline\n",
    "import seaborn as sns\n",
    "import pandas as pd\n",
    "import matplotlib.pyplot as plt\n",
    "from sklearn.metrics import confusion_matrix\n",
    "from sklearn.metrics import precision_score\n",
    "import numpy as np\n",
    "\n",
    "# set the color scheme & the plot size\n",
    "sns.set_palette(\"RdBu_r\", 20)\n",
    "sns.set(rc={\"image.cmap\": \"RdBu_r\", \"axes.grid\": False})\n",
    "sns.set_context(rc={\"figure.figsize\": (12, 8)})\n",
    "sns_color = sns.color_palette()\n",
    "\n",
    "# plt.rcParams['figure.figsize'] = (10, 10)\n",
    "# plt.rcParams['image.interpolation'] = 'nearest'\n",
    "# plt.rcParams['image.cmap'] = 'gray'"
   ]
  },
  {
   "cell_type": "code",
   "execution_count": 3,
   "metadata": {
    "collapsed": false
   },
   "outputs": [],
   "source": [
    "DIR_PATH = '/shared/flickr_style/'\n",
    "SAVE_PATH = '/home/hawk/Dropbox/linux/vision_project/graph/'\n",
    "TRAIN_TXT = 'train.txt'\n",
    "TEST_TXT = 'test.txt'\n",
    "CLASS_NAME_TXT = 'style_names.txt'\n",
    "TEST_RESULT = './label_result_bonggunet.csv'\n",
    "style_names = np.loadtxt(DIR_PATH + CLASS_NAME_TXT, str, delimiter='\\t')"
   ]
  },
  {
   "cell_type": "code",
   "execution_count": 4,
   "metadata": {
    "collapsed": false
   },
   "outputs": [
    {
     "data": {
      "text/html": [
       "<div style=\"max-height:1000px;max-width:1500px;overflow:auto;\">\n",
       "<table border=\"1\" class=\"dataframe\">\n",
       "  <thead>\n",
       "    <tr style=\"text-align: right;\">\n",
       "      <th></th>\n",
       "      <th>url</th>\n",
       "      <th>class</th>\n",
       "    </tr>\n",
       "  </thead>\n",
       "  <tbody>\n",
       "    <tr>\n",
       "      <th>15981</th>\n",
       "      <td>/home/hawk/imagenet2014/caffe/data/flickr_styl...</td>\n",
       "      <td>1</td>\n",
       "    </tr>\n",
       "    <tr>\n",
       "      <th>15982</th>\n",
       "      <td>/home/hawk/imagenet2014/caffe/data/flickr_styl...</td>\n",
       "      <td>4</td>\n",
       "    </tr>\n",
       "    <tr>\n",
       "      <th>15983</th>\n",
       "      <td>/home/hawk/imagenet2014/caffe/data/flickr_styl...</td>\n",
       "      <td>9</td>\n",
       "    </tr>\n",
       "    <tr>\n",
       "      <th>15984</th>\n",
       "      <td>/home/hawk/imagenet2014/caffe/data/flickr_styl...</td>\n",
       "      <td>5</td>\n",
       "    </tr>\n",
       "    <tr>\n",
       "      <th>15985</th>\n",
       "      <td>/home/hawk/imagenet2014/caffe/data/flickr_styl...</td>\n",
       "      <td>10</td>\n",
       "    </tr>\n",
       "  </tbody>\n",
       "</table>\n",
       "</div>"
      ],
      "text/plain": [
       "                                                     url  class\n",
       "15981  /home/hawk/imagenet2014/caffe/data/flickr_styl...      1\n",
       "15982  /home/hawk/imagenet2014/caffe/data/flickr_styl...      4\n",
       "15983  /home/hawk/imagenet2014/caffe/data/flickr_styl...      9\n",
       "15984  /home/hawk/imagenet2014/caffe/data/flickr_styl...      5\n",
       "15985  /home/hawk/imagenet2014/caffe/data/flickr_styl...     10"
      ]
     },
     "execution_count": 4,
     "metadata": {},
     "output_type": "execute_result"
    }
   ],
   "source": [
    "df_test = pd.read_csv(DIR_PATH + TEST_TXT, delimiter=' ', header=None)\n",
    "df_test.columns = ['url', 'class']\n",
    "df_test.tail()"
   ]
  },
  {
   "cell_type": "code",
   "execution_count": 5,
   "metadata": {
    "collapsed": false
   },
   "outputs": [
    {
     "data": {
      "text/plain": [
       "15    800\n",
       "19    800\n",
       "16    800\n",
       "1     800\n",
       "9     800\n",
       "17    800\n",
       "18    800\n",
       "7     800\n",
       "3     800\n",
       "4     800\n",
       "14    800\n",
       "12    799\n",
       "2     799\n",
       "13    799\n",
       "6     799\n",
       "0     799\n",
       "11    798\n",
       "10    798\n",
       "8     798\n",
       "5     797\n",
       "dtype: int64"
      ]
     },
     "execution_count": 5,
     "metadata": {},
     "output_type": "execute_result"
    }
   ],
   "source": [
    "df_test['class'].value_counts()"
   ]
  },
  {
   "cell_type": "code",
   "execution_count": 6,
   "metadata": {
    "collapsed": false
   },
   "outputs": [
    {
     "data": {
      "text/plain": [
       "9     3200\n",
       "17    3200\n",
       "16    3200\n",
       "3     3200\n",
       "14    3200\n",
       "8     3200\n",
       "7     3199\n",
       "13    3199\n",
       "12    3199\n",
       "4     3199\n",
       "18    3199\n",
       "5     3198\n",
       "19    3198\n",
       "0     3198\n",
       "11    3197\n",
       "2     3197\n",
       "10    3196\n",
       "1     3196\n",
       "15    3195\n",
       "6     3194\n",
       "dtype: int64"
      ]
     },
     "execution_count": 6,
     "metadata": {},
     "output_type": "execute_result"
    }
   ],
   "source": [
    "df_train = pd.read_csv(DIR_PATH + TRAIN_TXT, delimiter=' ', header=None)\n",
    "df_train.columns = ['url', 'class']\n",
    "df_train['class'].value_counts()"
   ]
  },
  {
   "cell_type": "code",
   "execution_count": 7,
   "metadata": {
    "collapsed": false
   },
   "outputs": [],
   "source": [
    "def plot_confusion_matrix(cm, target_names, title='Confusion matrix', cmap=plt.cm.Blues):\n",
    "    plt.imshow(cm, interpolation='nearest', cmap=cmap)\n",
    "    plt.title(title)\n",
    "    plt.colorbar()\n",
    "    tick_marks = np.arange(len(target_names))\n",
    "    plt.xticks(tick_marks, target_names, rotation=45)\n",
    "    plt.yticks(tick_marks, target_names)\n",
    "    plt.tight_layout()\n",
    "    plt.ylabel('True label')\n",
    "    plt.xlabel('Predicted label')"
   ]
  },
  {
   "cell_type": "code",
   "execution_count": 8,
   "metadata": {
    "collapsed": false
   },
   "outputs": [
    {
     "data": {
      "text/html": [
       "<div style=\"max-height:1000px;max-width:1500px;overflow:auto;\">\n",
       "<table border=\"1\" class=\"dataframe\">\n",
       "  <thead>\n",
       "    <tr style=\"text-align: right;\">\n",
       "      <th></th>\n",
       "      <th>true</th>\n",
       "      <th>path</th>\n",
       "      <th>truelabel</th>\n",
       "      <th>pred</th>\n",
       "    </tr>\n",
       "  </thead>\n",
       "  <tbody>\n",
       "    <tr>\n",
       "      <th>10321</th>\n",
       "      <td>4</td>\n",
       "      <td>/home/hawk/imagenet2014/caffe/data/flickr_styl...</td>\n",
       "      <td>4</td>\n",
       "      <td>4</td>\n",
       "    </tr>\n",
       "    <tr>\n",
       "      <th>10322</th>\n",
       "      <td>18</td>\n",
       "      <td>/home/hawk/imagenet2014/caffe/data/flickr_styl...</td>\n",
       "      <td>18</td>\n",
       "      <td>18</td>\n",
       "    </tr>\n",
       "    <tr>\n",
       "      <th>10323</th>\n",
       "      <td>5</td>\n",
       "      <td>/home/hawk/imagenet2014/caffe/data/flickr_styl...</td>\n",
       "      <td>5</td>\n",
       "      <td>19</td>\n",
       "    </tr>\n",
       "    <tr>\n",
       "      <th>10324</th>\n",
       "      <td>12</td>\n",
       "      <td>/home/hawk/imagenet2014/caffe/data/flickr_styl...</td>\n",
       "      <td>12</td>\n",
       "      <td>8</td>\n",
       "    </tr>\n",
       "    <tr>\n",
       "      <th>10325</th>\n",
       "      <td>4</td>\n",
       "      <td>/home/hawk/imagenet2014/caffe/data/flickr_styl...</td>\n",
       "      <td>4</td>\n",
       "      <td>12</td>\n",
       "    </tr>\n",
       "  </tbody>\n",
       "</table>\n",
       "</div>"
      ],
      "text/plain": [
       "       true                                               path  truelabel  \\\n",
       "10321     4  /home/hawk/imagenet2014/caffe/data/flickr_styl...          4   \n",
       "10322    18  /home/hawk/imagenet2014/caffe/data/flickr_styl...         18   \n",
       "10323     5  /home/hawk/imagenet2014/caffe/data/flickr_styl...          5   \n",
       "10324    12  /home/hawk/imagenet2014/caffe/data/flickr_styl...         12   \n",
       "10325     4  /home/hawk/imagenet2014/caffe/data/flickr_styl...          4   \n",
       "\n",
       "       pred  \n",
       "10321     4  \n",
       "10322    18  \n",
       "10323    19  \n",
       "10324     8  \n",
       "10325    12  "
      ]
     },
     "execution_count": 8,
     "metadata": {},
     "output_type": "execute_result"
    }
   ],
   "source": [
    "df_result = pd.read_csv(TEST_RESULT, header=None)\n",
    "df_result.columns = ['true', 'path', 'truelabel', 'pred']\n",
    "df_result.tail()"
   ]
  },
  {
   "cell_type": "code",
   "execution_count": 9,
   "metadata": {
    "collapsed": false
   },
   "outputs": [],
   "source": [
    "target_names = style_names\n",
    "y_true = df_result.true.values\n",
    "y_pred = df_result.pred.values\n",
    "df = pd.DataFrame(columns=['name', 'accuracy'])\n",
    "df.name = style_names\n",
    "df.accuracy = precision_score(y_true, y_pred, average=None)"
   ]
  },
  {
   "cell_type": "code",
   "execution_count": 10,
   "metadata": {
    "collapsed": false
   },
   "outputs": [
    {
     "data": {
      "text/html": [
       "<div style=\"max-height:1000px;max-width:1500px;overflow:auto;\">\n",
       "<table border=\"1\" class=\"dataframe\">\n",
       "  <thead>\n",
       "    <tr style=\"text-align: right;\">\n",
       "      <th></th>\n",
       "      <th>name</th>\n",
       "      <th>accuracy</th>\n",
       "    </tr>\n",
       "  </thead>\n",
       "  <tbody>\n",
       "    <tr>\n",
       "      <th>0</th>\n",
       "      <td>Detailed</td>\n",
       "      <td>0.401914</td>\n",
       "    </tr>\n",
       "    <tr>\n",
       "      <th>1</th>\n",
       "      <td>Pastel</td>\n",
       "      <td>0.190397</td>\n",
       "    </tr>\n",
       "    <tr>\n",
       "      <th>2</th>\n",
       "      <td>Melancholy</td>\n",
       "      <td>0.256560</td>\n",
       "    </tr>\n",
       "    <tr>\n",
       "      <th>3</th>\n",
       "      <td>Noir</td>\n",
       "      <td>0.489076</td>\n",
       "    </tr>\n",
       "    <tr>\n",
       "      <th>4</th>\n",
       "      <td>HDR</td>\n",
       "      <td>0.505071</td>\n",
       "    </tr>\n",
       "    <tr>\n",
       "      <th>5</th>\n",
       "      <td>Vintage</td>\n",
       "      <td>0.330789</td>\n",
       "    </tr>\n",
       "    <tr>\n",
       "      <th>6</th>\n",
       "      <td>Long Exposure</td>\n",
       "      <td>0.559633</td>\n",
       "    </tr>\n",
       "    <tr>\n",
       "      <th>7</th>\n",
       "      <td>Horror</td>\n",
       "      <td>0.459510</td>\n",
       "    </tr>\n",
       "    <tr>\n",
       "      <th>8</th>\n",
       "      <td>Sunny</td>\n",
       "      <td>0.515789</td>\n",
       "    </tr>\n",
       "    <tr>\n",
       "      <th>9</th>\n",
       "      <td>Bright</td>\n",
       "      <td>0.306265</td>\n",
       "    </tr>\n",
       "    <tr>\n",
       "      <th>10</th>\n",
       "      <td>Hazy</td>\n",
       "      <td>0.566000</td>\n",
       "    </tr>\n",
       "    <tr>\n",
       "      <th>11</th>\n",
       "      <td>Bokeh</td>\n",
       "      <td>0.340580</td>\n",
       "    </tr>\n",
       "    <tr>\n",
       "      <th>12</th>\n",
       "      <td>Serene</td>\n",
       "      <td>0.410526</td>\n",
       "    </tr>\n",
       "    <tr>\n",
       "      <th>13</th>\n",
       "      <td>Texture</td>\n",
       "      <td>0.322581</td>\n",
       "    </tr>\n",
       "    <tr>\n",
       "      <th>14</th>\n",
       "      <td>Ethereal</td>\n",
       "      <td>0.422034</td>\n",
       "    </tr>\n",
       "    <tr>\n",
       "      <th>15</th>\n",
       "      <td>Macro</td>\n",
       "      <td>0.549632</td>\n",
       "    </tr>\n",
       "    <tr>\n",
       "      <th>16</th>\n",
       "      <td>Depth of Field</td>\n",
       "      <td>0.212276</td>\n",
       "    </tr>\n",
       "    <tr>\n",
       "      <th>17</th>\n",
       "      <td>Geometric Composition</td>\n",
       "      <td>0.445755</td>\n",
       "    </tr>\n",
       "    <tr>\n",
       "      <th>18</th>\n",
       "      <td>Minimal</td>\n",
       "      <td>0.511712</td>\n",
       "    </tr>\n",
       "    <tr>\n",
       "      <th>19</th>\n",
       "      <td>Romantic</td>\n",
       "      <td>0.297003</td>\n",
       "    </tr>\n",
       "  </tbody>\n",
       "</table>\n",
       "</div>"
      ],
      "text/plain": [
       "                     name  accuracy\n",
       "0                Detailed  0.401914\n",
       "1                  Pastel  0.190397\n",
       "2              Melancholy  0.256560\n",
       "3                    Noir  0.489076\n",
       "4                     HDR  0.505071\n",
       "5                 Vintage  0.330789\n",
       "6           Long Exposure  0.559633\n",
       "7                  Horror  0.459510\n",
       "8                   Sunny  0.515789\n",
       "9                  Bright  0.306265\n",
       "10                   Hazy  0.566000\n",
       "11                  Bokeh  0.340580\n",
       "12                 Serene  0.410526\n",
       "13                Texture  0.322581\n",
       "14               Ethereal  0.422034\n",
       "15                  Macro  0.549632\n",
       "16         Depth of Field  0.212276\n",
       "17  Geometric Composition  0.445755\n",
       "18                Minimal  0.511712\n",
       "19               Romantic  0.297003"
      ]
     },
     "execution_count": 10,
     "metadata": {},
     "output_type": "execute_result"
    }
   ],
   "source": [
    "df"
   ]
  },
  {
   "cell_type": "code",
   "execution_count": 11,
   "metadata": {
    "collapsed": false,
    "scrolled": true
   },
   "outputs": [
    {
     "name": "stderr",
     "output_type": "stream",
     "text": [
      "/home/hawk/.virtualenvs/py2/local/lib/python2.7/site-packages/pandas/tools/plotting.py:856: UserWarning: 'colors' is being deprecated. Please use 'color'instead of 'colors'\n",
      "  warnings.warn((\"'colors' is being deprecated. Please use 'color'\"\n"
     ]
    },
    {
     "data": {
      "image/png": "[encoded data removed]",
      "text/plain": [
       "<matplotlib.figure.Figure at 0x7f8f1c92ee10>"
      ]
     },
     "metadata": {},
     "output_type": "display_data"
    }
   ],
   "source": [
    "# plt.figure(figsize=(20, 3))\n",
    "# plt.bar(range(20), df.accuracy.values, align='center')\n",
    "# plt.xticks(np.arange(20), df.name.values)\n",
    "# colors = ['c','b','g','y','r','m','c','b','g','y','r','m','c','b','g','y','r','m','c','b']\n",
    "plt.rcParams['figure.figsize'] = (30, 5)\n",
    "ax = df['accuracy'].plot(kind='bar', colors=sns_color)\n",
    "ax.xaxis.set_ticklabels(style_names)\n",
    "plt.savefig(SAVE_PATH + 'accuracy_table')"
   ]
  },
  {
   "cell_type": "code",
   "execution_count": null,
   "metadata": {
    "collapsed": false,
    "scrolled": true
   },
   "outputs": [],
   "source": []
  },
  {
   "cell_type": "code",
   "execution_count": 12,
   "metadata": {
    "collapsed": false
   },
   "outputs": [
    {
     "name": "stdout",
     "output_type": "stream",
     "text": [
      "[ 0.40191388  0.19039735  0.25655977  0.48907563  0.50507099  0.3307888\n",
      "  0.55963303  0.45951036  0.51578947  0.3062645   0.566       0.34057971\n",
      "  0.41052632  0.32258065  0.4220339   0.54963235  0.21227621  0.44575472\n",
      "  0.51171171  0.29700272]\n",
      "0.405341132434\n"
     ]
    }
   ],
   "source": [
    "print precision_score(y_true, y_pred, average=None)\n",
    "print precision_score(y_true, y_pred, average='weighted')"
   ]
  },
  {
   "cell_type": "code",
   "execution_count": 13,
   "metadata": {
    "collapsed": false,
    "scrolled": true
   },
   "outputs": [
    {
     "data": {
      "image/png": "[encoded data removed]",
      "text/plain": [
       "<matplotlib.figure.Figure at 0x7f8f1c7f3ad0>"
      ]
     },
     "metadata": {},
     "output_type": "display_data"
    }
   ],
   "source": [
    "cm = confusion_matrix(y_true, y_pred)\n",
    "cm_normalized = cm.astype('float') / cm.sum(axis=1)[:, np.newaxis]\n",
    "np.set_printoptions(precision=2)\n",
    "plt.figure(figsize=(6,6))\n",
    "plot_confusion_matrix(cm_normalized, target_names, title='Normalized confusion matrix of karayev')\n",
    "plt.savefig(SAVE_PATH + \"confusion.png\")\n",
    "plt.show()"
   ]
  },
  {
   "cell_type": "code",
   "execution_count": null,
   "metadata": {
    "collapsed": true
   },
   "outputs": [],
   "source": []
  }
 ],
 "metadata": {
  "kernelspec": {
   "display_name": "Python 2",
   "language": "python",
   "name": "python2"
  },
  "language_info": {
   "codemirror_mode": {
    "name": "ipython",
    "version": 2
   },
   "file_extension": ".py",
   "mimetype": "text/x-python",
   "name": "python",
   "nbconvert_exporter": "python",
   "pygments_lexer": "ipython2",
   "version": "2.7.6"
  }
 },
 "nbformat": 4,
 "nbformat_minor": 0
}
